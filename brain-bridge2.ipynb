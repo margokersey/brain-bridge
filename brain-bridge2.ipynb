{
 "cells": [
  {
   "cell_type": "markdown",
   "metadata": {},
   "source": [
    "# BRAIN-BRIDGE\n",
    "## Let's explore individual structural differences among the Human Connectome Project dataset! How can we ~bridge~ one brain with the rest?\n",
    "***"
   ]
  },
  {
   "cell_type": "code",
   "execution_count": 40,
   "metadata": {},
   "outputs": [
    {
     "data": {
      "text/markdown": [
       "## We extracted all FreeSurfer parcellation metrics for the 74 regions of the Destrieux Atlas for 1042 subjects."
      ],
      "text/plain": [
       "<IPython.core.display.Markdown object>"
      ]
     },
     "metadata": {},
     "output_type": "display_data"
    },
    {
     "data": {
      "text/markdown": [
       "### For each region, we will examine:"
      ],
      "text/plain": [
       "<IPython.core.display.Markdown object>"
      ]
     },
     "metadata": {},
     "output_type": "display_data"
    },
    {
     "data": {
      "text/markdown": [
       "####  1. Gray Matter Volume"
      ],
      "text/plain": [
       "<IPython.core.display.Markdown object>"
      ]
     },
     "metadata": {},
     "output_type": "display_data"
    },
    {
     "data": {
      "text/markdown": [
       "####  2. Average Cortical Thickness"
      ],
      "text/plain": [
       "<IPython.core.display.Markdown object>"
      ]
     },
     "metadata": {},
     "output_type": "display_data"
    },
    {
     "data": {
      "text/markdown": [
       "####  3. Surface Area"
      ],
      "text/plain": [
       "<IPython.core.display.Markdown object>"
      ]
     },
     "metadata": {},
     "output_type": "display_data"
    }
   ],
   "source": [
    "import pandas as pd\n",
    "import numpy as np\n",
    "from nilearn import datasets, plotting \n",
    "import ipywidgets as widgets\n",
    "from IPython.display import display, Markdown\n",
    "import seaborn as sns\n",
    "import matplotlib.pyplot as plt\n",
    "\n",
    "struct_df = pd.read_csv('data/all_structural_metrics_HCP.csv')\n",
    "#display(Markdown(f'## There are {struct_df.shape[0]} subjects in the HCP dataset.'))\n",
    "display(Markdown(f'## We extracted all FreeSurfer parcellation metrics for the 74 regions of the Destrieux Atlas for {struct_df.shape[0]} subjects.'))\n",
    "display(Markdown('### For each region, we will examine:'))\n",
    "display(Markdown('####  1. Gray Matter Volume'))\n",
    "display(Markdown('####  2. Average Cortical Thickness'))\n",
    "display(Markdown('####  3. Surface Area'))"
   ]
  },
  {
   "cell_type": "code",
   "execution_count": 32,
   "metadata": {},
   "outputs": [],
   "source": [
    "# Create individual dataframes for each measure\n",
    "thick_df = struct_df.filter(regex=('ThickAvg$'))\n",
    "thick_df.insert(0, 'id_number', struct_df['id_number'])\n",
    "vol_df = struct_df.filter(regex='GrayVol$')\n",
    "vol_df.insert(0, 'id_number', struct_df['id_number'])\n",
    "area_df = struct_df.filter(regex='SurfArea$')\n",
    "area_df.insert(0, 'id_number', struct_df['id_number'])"
   ]
  },
  {
   "cell_type": "code",
   "execution_count": 59,
   "metadata": {},
   "outputs": [
    {
     "data": {
      "text/markdown": [
       "## Enter a subject ID number and select a structural metric to plot the z-scores on the brain."
      ],
      "text/plain": [
       "<IPython.core.display.Markdown object>"
      ]
     },
     "metadata": {},
     "output_type": "display_data"
    },
    {
     "data": {
      "application/vnd.jupyter.widget-view+json": {
       "model_id": "99bc253aa3f6428bb6e7ceca3c36cb22",
       "version_major": 2,
       "version_minor": 0
      },
      "text/plain": [
       "VBox(children=(Text(value='', description='ID Number:', layout=Layout(width='300px'), placeholder='Enter ID nu…"
      ]
     },
     "metadata": {},
     "output_type": "display_data"
    },
    {
     "data": {
      "text/markdown": [
       "## Enter a z-score threshold to plot the regions with absolute value of z-scores above the threshold."
      ],
      "text/plain": [
       "<IPython.core.display.Markdown object>"
      ]
     },
     "metadata": {},
     "output_type": "display_data"
    },
    {
     "data": {
      "application/vnd.jupyter.widget-view+json": {
       "model_id": "9ddc2e63db7c4b5a9cc234f76c729a7e",
       "version_major": 2,
       "version_minor": 0
      },
      "text/plain": [
       "VBox(children=(HBox(children=(FloatText(value=2.0, description='Z-Score Threshold:', layout=Layout(width='300x…"
      ]
     },
     "metadata": {},
     "output_type": "display_data"
    },
    {
     "data": {
      "application/vnd.jupyter.widget-view+json": {
       "model_id": "d9ca9591001b42fd8ac7f493491f71fb",
       "version_major": 2,
       "version_minor": 0
      },
      "text/plain": [
       "HBox(children=(Select(description='Region:', layout=Layout(width='400px'), options=('lh_S_orbital_med-olfact_G…"
      ]
     },
     "metadata": {},
     "output_type": "display_data"
    },
    {
     "data": {
      "application/vnd.jupyter.widget-view+json": {
       "model_id": "434205d179144afba09af716d8ca5169",
       "version_major": 2,
       "version_minor": 0
      },
      "text/plain": [
       "HBox(children=(Select(description='Region:', layout=Layout(width='400px'), options=('lh_S_orbital_med-olfact_G…"
      ]
     },
     "metadata": {},
     "output_type": "display_data"
    }
   ],
   "source": [
    "out_brain = widgets.Output()\n",
    "out_table = widgets.Output()\n",
    "out_plot = widgets.Output()\n",
    "out_bar = widgets.Output()\n",
    "\n",
    "\n",
    "def zscore(id_number, dtype):\n",
    "    if dtype == 'Volume':\n",
    "        df = vol_df\n",
    "    elif dtype == 'Area':\n",
    "        df = area_df\n",
    "    elif dtype == 'Thickness':\n",
    "        df = thick_df\n",
    "    patient_df = df[df['id_number'] == id_number].drop(columns=['id_number'])\n",
    "    control_df = df[df['id_number'] != id_number].drop(columns=['id_number'])\n",
    "    control_means = np.mean(control_df, axis=0)\n",
    "    control_stds = np.std(control_df, axis=0)\n",
    "    return (patient_df - control_means) / control_stds\n",
    "\n",
    "def plot_brain(z_data, dtype):\n",
    "    # The left and right hemisphere views will be stored here\n",
    "    left_hemi_widget = None\n",
    "    right_hemi_widget = None\n",
    "\n",
    "    # 1. Determine the global min and max values across both hemispheres for consistent color scaling\n",
    "    global_vmin = min(z_data.min())\n",
    "    global_vmax = max(z_data.max())\n",
    "\n",
    "    for hemi in ['left', 'right']:\n",
    "        z_data_tmp = z_data.copy()\n",
    "\n",
    "        # Fetching Destrieux atlas and fsaverage\n",
    "        destrieux_atlas = datasets.fetch_atlas_surf_destrieux()\n",
    "        fsaverage = datasets.fetch_surf_fsaverage()\n",
    "\n",
    "        # Filter z_data to only include variables starting with lh_ or rh_\n",
    "        if hemi == 'left':\n",
    "            z_data_tmp = z_data_tmp.filter(regex='^lh_')\n",
    "            z_data_tmp.columns = z_data_tmp.columns.str.replace('lh_', '')\n",
    "        else:\n",
    "            z_data_tmp = z_data_tmp.filter(regex='^rh_')\n",
    "            z_data_tmp.columns = z_data_tmp.columns.str.replace('rh_', '')\n",
    "\n",
    "        # remove the ending of columns after last underscore\n",
    "        z_data_tmp.columns = z_data_tmp.columns.str.rsplit(pat='_', n=1).str[0]\n",
    "        \n",
    "        if 'Lat_Fis-post' not in z_data_tmp.columns:\n",
    "            # Handle the case when 'Lat_Fis-post' doesn't exist. Raise an error.\n",
    "            raise ValueError('Lat_Fis-post does not exist. I must place a Medial_wall column in the dataframe after this column to match up with the atlas labels.')\n",
    "\n",
    "        loc = z_data_tmp.columns.get_loc('Lat_Fis-post')\n",
    "        z_data_tmp.insert(loc+1, 'Medial_wall', 0)\n",
    "        z_data_tmp.insert(0, 'Unknown', 0)\n",
    "\n",
    "        # Zip the values of z_data to the labels of the Destrieux atlas\n",
    "        region_values = dict(zip(destrieux_atlas['labels'], z_data_tmp.values[0]))\n",
    "\n",
    "        # Initialize an array with zeros\n",
    "        mapped_values = np.zeros_like(destrieux_atlas[f'map_{hemi}'], dtype=float)\n",
    "\n",
    "        # Populate the mapped_values array using regi)on_values dictionary\n",
    "        for label, value in region_values.items():\n",
    "            region_idx = destrieux_atlas['labels'].index(label)\n",
    "            mapped_values[destrieux_atlas[f'map_{hemi}'] == region_idx] = value\n",
    "\n",
    "        fsavg = fsaverage.infl_left if hemi == 'left' else fsaverage.infl_right\n",
    "\n",
    "        # Plotting\n",
    "        \n",
    "        # For right hemisphere, set the view to \"Right\"\n",
    "        hemi_view = \"right\" if hemi == \"right\" else \"left\"\n",
    "\n",
    "        view = plotting.view_surf(fsavg, mapped_values,\n",
    "                                cmap='coolwarm', symmetric_cmap=True,\n",
    "                                vmax=np.max([np.abs(global_vmin), np.abs(global_vmax)]))\n",
    "                                #view=hemi_view)\n",
    "\n",
    "        widget = widgets.HTML(view.get_iframe())#.decode())\n",
    "\n",
    "        if hemi == 'left':\n",
    "            left_hemi_widget = widget\n",
    "        else:\n",
    "            right_hemi_widget = widget\n",
    "\n",
    "        # Display the widgets side by side  \n",
    "    with out_brain:\n",
    "        display(widgets.HBox([left_hemi_widget, right_hemi_widget]))\n",
    "\n",
    "def plot_bar_for_thresholded_regions(z_data, dtype, thresh):\n",
    "\n",
    "    prominent_regions = [col for col in z_data.columns if z_data[col].abs().mean() > thresh]\n",
    "\n",
    "    # Sort in descending order\n",
    "    prominent_regions = sorted(prominent_regions, key=lambda x: z_data[x].mean(), reverse=True)\n",
    "\n",
    "    # set color to be red if z-score is positive, blue if negative\n",
    "    # color_map = lambda z: 'red' if z > 0 else 'blue'\n",
    "    fig = plt.figure(figsize=(10, 5))\n",
    "    plt.bar(prominent_regions, z_data[prominent_regions].values[0], color=(0.2, 0.4, 0.6, 0.6))\n",
    "    plt.ylabel('Z-Score')\n",
    "    plt.title(f'Regions with Abs(Z-Score) > {thresh}')\n",
    "    plt.xticks(rotation=90)\n",
    "    # add a horizontal line at z=0\n",
    "    plt.axhline(y=0, color='black', linestyle='--')\n",
    "    plt.tight_layout()\n",
    "    plt.close(fig)\n",
    "    # make the table into a widget object\n",
    "    # plot_widget = widgets.HTML(value=plt.gcf().get_iframe().decode())\n",
    "\n",
    "    # with out_table:\n",
    "    #     # plt.show()\n",
    "    #     # display in a horizontal box with the table\n",
    "    #     display(widgets.HBox([plot_widget]))\n",
    "    # convert figure into a widget object\n",
    "\n",
    "    return fig\n",
    "\n",
    "\n",
    "def create_plot(id_number, dtype, region):\n",
    "    if dtype == 'Volume':\n",
    "        df = vol_df\n",
    "    elif dtype == 'Area':\n",
    "        df = area_df\n",
    "    elif dtype == 'Thickness':\n",
    "        df = thick_df\n",
    "\n",
    "    region_data = df[region]\n",
    "    \n",
    "    subject_data = df[df['id_number'] == id_number][region].values[0]\n",
    "    \n",
    "    # initialize subplots but make the right plot wider than the left\n",
    "    fig, ax = plt.subplots(1, 2, figsize=(12, 6), gridspec_kw={'width_ratios': [2, 3]})\n",
    "\n",
    "    # Scatter plot with jitter\n",
    "    sns.boxplot(y=region_data, ax=ax[0], color='lightgray', showfliers=False)\n",
    "    sns.stripplot(y=region_data, jitter=0.3, size=3, ax=ax[0], alpha=0.6)\n",
    "    ax[0].scatter(x=0, y=subject_data, color='red', s=50, label=f'Subject {id_number}: Val={subject_data:.2f}')\n",
    "    ax[0].set_title(f'Distribution of {region}')\n",
    "    ax[0].set_ylabel(dtype)\n",
    "    ax[0].set_xticks([])  # Hide x-axis ticks as they are not necessary in this context.\n",
    "    ax[0].set_xlabel('Subjects')\n",
    "    ax[0].legend()\n",
    "\n",
    "    # Distribution with z-score\n",
    "    sns.kdeplot(region_data, ax=ax[1], shade=True)\n",
    "    z_val = (subject_data - region_data.mean()) / region_data.std()\n",
    "    ax[1].axvline(x=subject_data, color='r', linestyle='--', label=f'Subject {id_number}: Z={z_val:.2f}')\n",
    "    ax[1].set_title(f'Z-Score Distribution for {region}')\n",
    "    ax[1].set_xlabel(dtype)\n",
    "    ax[1].legend()\n",
    "    \n",
    "    with out_plot:\n",
    "        out_plot.clear_output(wait=True)\n",
    "        plt.tight_layout()\n",
    "        plt.show()\n",
    "\n",
    "def create_interactive_table(id_number, z_data, dtype, thresh):\n",
    "    prominent_regions = [col for col in z_data.columns if z_data[col].abs().mean() > thresh]\n",
    "    # Sort in descending order\n",
    "    # prominent_regions.sort(key=lambda x: z_data[x].abs().mean(), reverse=True)\n",
    "    prominent_regions = sorted(prominent_regions, key=lambda x: z_data[x].mean(), reverse=True)\n",
    "\n",
    "    region_selector = widgets.Select(options=prominent_regions, description='Region:', rows=25)\n",
    "    # make region_selector wider\n",
    "    region_selector.layout.width = '400px'\n",
    "  \n",
    "    def on_region_selected(change):\n",
    "        region = change['new']\n",
    "        create_plot(id_number, dtype, region)\n",
    "\n",
    "    region_selector.observe(on_region_selected, names='value')\n",
    "\n",
    "    barplot = plot_bar_for_thresholded_regions(z_data, dtype, thresh)\n",
    "\n",
    "    with out_bar:\n",
    "        out_bar.clear_output(wait=True)\n",
    "        display(barplot)\n",
    "\n",
    "    display(widgets.HBox([region_selector, out_bar]))\n",
    "        # display the region_selector and barplot side by side. the barplot is a figure object\n",
    "        # display(widgets.HBox([region_selector, barplot]))\n",
    "\n",
    "    # Trigger an initial plot when the table is first created.\n",
    "    create_plot(id_number, dtype, prominent_regions[0])\n",
    "\n",
    "def submit_id(b):\n",
    "    out_brain.clear_output(wait=True)\n",
    "    # Fetch the current selected value from the radio buttons inside the function\n",
    "    dtype = data_type.value\n",
    "\n",
    "    # get the id number from the input cell\n",
    "    id_number = id.value.strip()\n",
    "    # if the id number is not a number, raise an error\n",
    "    if not id_number.isdigit():\n",
    "        raise ValueError('Please enter a number for the ID number.')\n",
    "    \n",
    "    id_number = np.int64(id_number)\n",
    "    #print(id_number.__class__)\n",
    "    #print(id_number)\n",
    "\n",
    "    z_data = zscore(id_number, dtype)\n",
    "    plot_brain(z_data, dtype)\n",
    "\n",
    "def submit_thresh(b):\n",
    "    out_table.clear_output(wait=True)\n",
    "    out_bar.clear_output(wait=True)\n",
    "    out_plot.clear_output(wait=True)\n",
    "\n",
    "    # Fetch the current selected value from the radio buttons inside the function\n",
    "    dtype = data_type.value\n",
    "\n",
    "    # get the id number from the input cell\n",
    "    id_number = id.value.strip()\n",
    "    # if the id number is not a number, raise an error\n",
    "    if not id_number.isdigit():\n",
    "        raise ValueError('Please enter a number for the ID number.')\n",
    "    \n",
    "    id_number = np.int64(id_number)\n",
    "    thresh_value = thresh.value\n",
    "    thresh_value = np.float64(thresh_value)\n",
    "\n",
    "    z_data = zscore(id_number, dtype)\n",
    "\n",
    "    plot_bar_for_thresholded_regions(z_data, dtype, thresh_value)\n",
    "    #interactive_plot_output = create_interactive_table(id_number, z_data, dtype, thresh_value)\n",
    "    #display(interactive_plot_output)\n",
    "    create_interactive_table(id_number, z_data, dtype, thresh_value)\n",
    "\n",
    "# Add an input cell to enter an id_number\n",
    "id = widgets.Text(\n",
    "    value='',\n",
    "    placeholder='Enter ID number',\n",
    "    description='ID Number:',\n",
    "    disabled=False  \n",
    "    # make it larger\n",
    "    \n",
    ")\n",
    "\n",
    "# Add an input cell for the threshold\n",
    "thresh = widgets.FloatText(\n",
    "    value=2,\n",
    "    description='Z-Score Threshold:',\n",
    "    disabled=False\n",
    ")\n",
    "\n",
    "# Add radio buttons to select the data type\n",
    "data_type = widgets.RadioButtons(\n",
    "    options=['Volume', 'Area', 'Thickness'],\n",
    "    description='Structural Metric:',\n",
    "    disabled=False,\n",
    "    value='Volume'\n",
    ")\n",
    "\n",
    "# create a submit button for the threshold that will update the table and plot\n",
    "thresh_button = widgets.Button(description=\"Submit\")\n",
    "thresh_button.on_click(submit_thresh)  # Bind the button click to your function\n",
    "\n",
    "# Create the submit button\n",
    "submit_button = widgets.Button(description=\"Submit\")\n",
    "submit_button.on_click(submit_id)  # Bind the button click to your function\n",
    "\n",
    "\n",
    "id.layout.width = '300px'\n",
    "thresh.layout.width = '300x'\n",
    "# make more space for the text in thresh\n",
    "id.style.description_width = '70px'\n",
    "thresh.style.description_width = '120px'\n",
    "\n",
    "box_layout = widgets.Layout(display='flex',\n",
    "                flex_flow='column',\n",
    "                align_items='flex-start',\n",
    "                width='100%')\n",
    "\n",
    "# group_id = widgets.HBox([id, submit_button], layout=box_layout)\n",
    "group_thresh = widgets.HBox([thresh, thresh_button], layout=box_layout)\n",
    "\n",
    "display(Markdown('## Enter a subject ID number and select a structural metric to plot the z-scores on the brain.'))\n",
    "# Display widgets for Z-score brains\n",
    "display(widgets.VBox([id, data_type, submit_button, out_brain]))\n",
    "\n",
    "display(Markdown('## Enter a z-score threshold to plot the regions with absolute value of z-scores above the threshold.'))\n",
    "# Display widgets for threshold/plots\n",
    "display(widgets.VBox([group_thresh, out_table, out_plot]))\n",
    "\n",
    "# # Display widgets for Z-score brains\n",
    "# display(id)\n",
    "# display(data_type)\n",
    "# display(submit_button)\n",
    "# display(out_brain)\n",
    "\n",
    "# #Display widgets for threshold/plots\n",
    "# display(thresh)\n",
    "# display(thresh_button)\n",
    "# display(out_table)\n",
    "# display(out_plot)"
   ]
  },
  {
   "cell_type": "code",
   "execution_count": null,
   "metadata": {},
   "outputs": [],
   "source": []
  }
 ],
 "metadata": {
  "kernelspec": {
   "display_name": "Python 3.9.13 ('base')",
   "language": "python",
   "name": "python3"
  },
  "language_info": {
   "codemirror_mode": {
    "name": "ipython",
    "version": 3
   },
   "file_extension": ".py",
   "mimetype": "text/x-python",
   "name": "python",
   "nbconvert_exporter": "python",
   "pygments_lexer": "ipython3",
   "version": "3.9.6"
  },
  "orig_nbformat": 4,
  "vscode": {
   "interpreter": {
    "hash": "7d7010f9d425683ae41e5b0b8dc0d6eb35e44e03f18d381e022146c22a330439"
   }
  }
 },
 "nbformat": 4,
 "nbformat_minor": 2
}
